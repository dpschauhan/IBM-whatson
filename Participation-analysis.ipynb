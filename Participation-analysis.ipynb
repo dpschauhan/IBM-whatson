{
    "cells": [
        {
            "cell_type": "markdown",
            "metadata": {},
            "source": "# Hii Its meee its just trying \n## And Trying\n### and still learning"
        },
        {
            "cell_type": "code",
            "execution_count": null,
            "metadata": {},
            "outputs": [],
            "source": "# The code was removed by Watson Studio for sharing."
        },
        {
            "cell_type": "code",
            "execution_count": 3,
            "metadata": {},
            "outputs": [
                {
                    "data": {
                        "text/plain": "[Row(_c0='0', Company='Apple', TypeName='Ultrabook', Inches='13.3', ScreenResolution='IPS Panel Retina Display 2560x1600', Cpu='Intel Core i5 2.3GHz', Ram='8GB', Memory='128GB SSD', Gpu='Intel Iris Plus Graphics 640', OpSys='macOS', Weight='1.37kg', Price='71378.6832'),\n Row(_c0='1', Company='Apple', TypeName='Ultrabook', Inches='13.3', ScreenResolution='1440x900', Cpu='Intel Core i5 1.8GHz', Ram='8GB', Memory='128GB Flash Storage', Gpu='Intel HD Graphics 6000', OpSys='macOS', Weight='1.34kg', Price='47895.523199999996'),\n Row(_c0='2', Company='HP', TypeName='Notebook', Inches='15.6', ScreenResolution='Full HD 1920x1080', Cpu='Intel Core i5 7200U 2.5GHz', Ram='8GB', Memory='256GB SSD', Gpu='Intel HD Graphics 620', OpSys='No OS', Weight='1.86kg', Price='30636.0'),\n Row(_c0='3', Company='Apple', TypeName='Ultrabook', Inches='15.4', ScreenResolution='IPS Panel Retina Display 2880x1800', Cpu='Intel Core i7 2.7GHz', Ram='16GB', Memory='512GB SSD', Gpu='AMD Radeon Pro 455', OpSys='macOS', Weight='1.83kg', Price='135195.33599999998'),\n Row(_c0='4', Company='Apple', TypeName='Ultrabook', Inches='13.3', ScreenResolution='IPS Panel Retina Display 2560x1600', Cpu='Intel Core i5 3.1GHz', Ram='8GB', Memory='256GB SSD', Gpu='Intel Iris Plus Graphics 650', OpSys='macOS', Weight='1.37kg', Price='96095.80799999999')]"
                    },
                    "execution_count": 3,
                    "metadata": {},
                    "output_type": "execute_result"
                }
            ],
            "source": "# The code was removed by Watson Studio for sharing."
        },
        {
            "cell_type": "code",
            "execution_count": 4,
            "metadata": {},
            "outputs": [],
            "source": ""
        },
        {
            "cell_type": "code",
            "execution_count": null,
            "metadata": {},
            "outputs": [],
            "source": ""
        }
    ],
    "metadata": {
        "kernelspec": {
            "display_name": "Python 3.9 with Spark",
            "language": "python3",
            "name": "python39"
        },
        "language_info": {
            "codemirror_mode": {
                "name": "ipython",
                "version": 3
            },
            "file_extension": ".py",
            "mimetype": "text/x-python",
            "name": "python",
            "nbconvert_exporter": "python",
            "pygments_lexer": "ipython3",
            "version": "3.9.13"
        }
    },
    "nbformat": 4,
    "nbformat_minor": 1
}