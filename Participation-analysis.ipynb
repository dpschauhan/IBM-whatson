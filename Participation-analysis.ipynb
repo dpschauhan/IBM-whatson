{
    "cells": [
        {
            "metadata": {},
            "cell_type": "markdown",
            "source": "# Hii Its meee its just trying \n## And Trying\n### and still learning\n\n\n\nnow its also compleated ha ha "
        },
        {
            "metadata": {},
            "cell_type": "code",
            "source": "# import os, types\nimport pandas as pd\nfrom botocore.client import Config\nimport ibm_boto3\n\ndef __iter__(self): return 0\n\n# @hidden_cell\n# The following code accesses a file in your IBM Cloud Object Storage. It includes your credentials.\n# You might want to remove those credentials before you share the notebook.\ncos_client = ibm_boto3.client(service_name='s3',\n    ibm_api_key_id='_gfaomN6H37Bsmo_btwyE1QK-j5-YTLlC8ejzZJDCx5x',\n    ibm_auth_endpoint=\"https://iam.cloud.ibm.com/oidc/token\",\n    config=Config(signature_version='oauth'),\n    endpoint_url='https://s3.private.eu.cloud-object-storage.appdomain.cloud')\n\nbucket = 'myfirstdatascienceproject-donotdelete-pr-xlokdd2ixe9hk8'\nobject_key = 'laptop_data.csv'\n\nbody = cos_client.get_object(Bucket=bucket,Key=object_key)['Body']\n# add missing __iter__ method, so pandas accepts body as file-like object\nif not hasattr(body, \"__iter__\"): body.__iter__ = types.MethodType( __iter__, body )\n\ndf_data_1 = pd.read_csv(body)\ndf_data_1.head()\n",
            "execution_count": null,
            "outputs": []
        },
        {
            "metadata": {},
            "cell_type": "code",
            "source": "\nimport ibmos2spark, os\n# @hidden_cell\nmetadata = {\n    'endpoint': 'https://s3.private.eu.cloud-object-storage.appdomain.cloud',\n    'service_id': 'iam-ServiceId-395ea882-5653-4caa-87a1-32bdb3259353',\n    'iam_service_endpoint': 'https://iam.cloud.ibm.com/oidc/token',\n    'api_key': '_gfaomN6H37Bsmo_btwyE1QK-j5-YTLlC8ejzZJDCx5x'\n}\n\nconfiguration_name = 'os_7d33744eb9bb48c595015566912677a6_configs'\ncos = ibmos2spark.CloudObjectStorage(sc, metadata, configuration_name, 'bluemix_cos')\n\nfrom pyspark.sql import SparkSession\nspark = SparkSession.builder.getOrCreate()\ndf_data_2 = spark.read\\\n  .format('org.apache.spark.sql.execution.datasources.csv.CSVFileFormat')\\\n  .option('header', 'true')\\\n  .load(cos.url('laptop_data.csv', 'myfirstdatascienceproject-donotdelete-pr-xlokdd2ixe9hk8'))\ndf_data_2.take(5)\n",
            "execution_count": 3,
            "outputs": [
                {
                    "output_type": "execute_result",
                    "execution_count": 3,
                    "data": {
                        "text/plain": "[Row(_c0='0', Company='Apple', TypeName='Ultrabook', Inches='13.3', ScreenResolution='IPS Panel Retina Display 2560x1600', Cpu='Intel Core i5 2.3GHz', Ram='8GB', Memory='128GB SSD', Gpu='Intel Iris Plus Graphics 640', OpSys='macOS', Weight='1.37kg', Price='71378.6832'),\n Row(_c0='1', Company='Apple', TypeName='Ultrabook', Inches='13.3', ScreenResolution='1440x900', Cpu='Intel Core i5 1.8GHz', Ram='8GB', Memory='128GB Flash Storage', Gpu='Intel HD Graphics 6000', OpSys='macOS', Weight='1.34kg', Price='47895.523199999996'),\n Row(_c0='2', Company='HP', TypeName='Notebook', Inches='15.6', ScreenResolution='Full HD 1920x1080', Cpu='Intel Core i5 7200U 2.5GHz', Ram='8GB', Memory='256GB SSD', Gpu='Intel HD Graphics 620', OpSys='No OS', Weight='1.86kg', Price='30636.0'),\n Row(_c0='3', Company='Apple', TypeName='Ultrabook', Inches='15.4', ScreenResolution='IPS Panel Retina Display 2880x1800', Cpu='Intel Core i7 2.7GHz', Ram='16GB', Memory='512GB SSD', Gpu='AMD Radeon Pro 455', OpSys='macOS', Weight='1.83kg', Price='135195.33599999998'),\n Row(_c0='4', Company='Apple', TypeName='Ultrabook', Inches='13.3', ScreenResolution='IPS Panel Retina Display 2560x1600', Cpu='Intel Core i5 3.1GHz', Ram='8GB', Memory='256GB SSD', Gpu='Intel Iris Plus Graphics 650', OpSys='macOS', Weight='1.37kg', Price='96095.80799999999')]"
                    },
                    "metadata": {}
                }
            ]
        },
        {
            "metadata": {},
            "cell_type": "code",
            "source": "",
            "execution_count": 4,
            "outputs": []
        },
        {
            "metadata": {},
            "cell_type": "code",
            "source": "",
            "execution_count": null,
            "outputs": []
        }
    ],
    "metadata": {
        "kernelspec": {
            "name": "python39",
            "display_name": "Python 3.9 with Spark",
            "language": "python3"
        },
        "language_info": {
            "name": "python",
            "version": "3.9.13",
            "mimetype": "text/x-python",
            "codemirror_mode": {
                "name": "ipython",
                "version": 3
            },
            "pygments_lexer": "ipython3",
            "nbconvert_exporter": "python",
            "file_extension": ".py"
        }
    },
    "nbformat": 4,
    "nbformat_minor": 1
}